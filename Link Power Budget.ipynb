{
 "cells": [
  {
   "cell_type": "markdown",
   "metadata": {},
   "source": [
    "# Link Power Budget"
   ]
  },
  {
   "cell_type": "code",
   "execution_count": 1,
   "metadata": {},
   "outputs": [],
   "source": [
    "#importing library\n",
    "import numpy as np"
   ]
  },
  {
   "cell_type": "code",
   "execution_count": 2,
   "metadata": {},
   "outputs": [],
   "source": [
    "#assigning values\n",
    "L = 7 #km\n",
    "alpha = 2.6 #dB/km\n",
    "no_splice = 6\n",
    "splice_loss = 0.5 #dB\n",
    "connector_loss = 1.5 #dB\n",
    "pi = 100e-6 #w\n",
    "pout_dbm = -41 #dBm\n",
    "safety_margin = 6 #dB"
   ]
  },
  {
   "cell_type": "code",
   "execution_count": 3,
   "metadata": {},
   "outputs": [
    {
     "name": "stdout",
     "output_type": "stream",
     "text": [
      "Input Power (dBm): -10.0\n",
      "Total System Margin: 31.0\n",
      "Total Link Loss: 28.7\n",
      "Excess Power Margin: 2.3000000000000007\n"
     ]
    }
   ],
   "source": [
    "#calculation\n",
    "pi_dbm = 10*(np.log10(100e-6/1e-3))\n",
    "print('Input Power (dBm):',pi_dbm)\n",
    "\n",
    "total_system_margin = pi_dbm - pout_dbm\n",
    "print('Total System Margin:',total_system_margin)\n",
    "\n",
    "total_link_loss = (alpha*L) + (no_splice*splice_loss) + connector_loss + safety_margin\n",
    "print('Total Link Loss:',total_link_loss)\n",
    "\n",
    "excess_power_margin = total_system_margin - total_link_loss\n",
    "print('Excess Power Margin:',excess_power_margin)\n"
   ]
  },
  {
   "cell_type": "code",
   "execution_count": null,
   "metadata": {},
   "outputs": [],
   "source": []
  }
 ],
 "metadata": {
  "kernelspec": {
   "display_name": "Python 3",
   "language": "python",
   "name": "python3"
  },
  "language_info": {
   "codemirror_mode": {
    "name": "ipython",
    "version": 3
   },
   "file_extension": ".py",
   "mimetype": "text/x-python",
   "name": "python",
   "nbconvert_exporter": "python",
   "pygments_lexer": "ipython3",
   "version": "3.8.4"
  }
 },
 "nbformat": 4,
 "nbformat_minor": 4
}
